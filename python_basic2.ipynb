{
 "cells": [
  {
   "cell_type": "markdown",
   "id": "60ab34bf-1ebc-4b43-a77d-8eda6f7133bf",
   "metadata": {},
   "source": [
    "### 반복문(for문)"
   ]
  },
  {
   "cell_type": "code",
   "execution_count": 26,
   "id": "9fc5f58d-0f7d-4a35-9f59-e88bc3c3d754",
   "metadata": {},
   "outputs": [
    {
     "name": "stdout",
     "output_type": "stream",
     "text": [
      "Hi 1\n",
      "Hi 2\n",
      "Hi 3\n",
      "1\n",
      "3\n",
      "5\n",
      "7\n",
      "9\n",
      "True\n",
      "False\n",
      "사과\n",
      "바나나\n",
      "감\n",
      "[1, 2, 3, 4, 5, 6, 7, 8, 9, 10]\n"
     ]
    }
   ],
   "source": [
    "# range()\n",
    "range(1, 10)\n",
    "list(range(1, 10))   #시작인덱스, 끝인덱스(-1)\n",
    "list(range(10))    # 시작인덱스가 없으면 0부터 시작함\n",
    "\n",
    "for i in range(1, 4) :\n",
    "    print(\"Hi\", i)    # i를 넣으면 연번\n",
    "# 1~10까지 출력\n",
    "for i in range(1, 10, 2) :  # 마지막 2는 간격(step)을 의미\n",
    "    print(i)\n",
    "\n",
    "# for ~ in 리스트\n",
    "word = [\"사과\", \"바나나\", \"감\"]\n",
    "print(\"사과\" in word)\n",
    "print(\"딸기\" in word)\n",
    "for i in word :\n",
    "    print(i)\n",
    "\n",
    "# 리스트 : 1~10 저장 \n",
    "number = []\n",
    "for i in range(1, 11) :\n",
    "    number.append(i)\n",
    "print(number)\n"
   ]
  },
  {
   "cell_type": "markdown",
   "id": "d491cd39-2ffe-4490-9445-44ed195809f4",
   "metadata": {},
   "source": [
    "### 딕셔너리\n",
    "키(key)와 값(value)으로 이뤄진 자료형<br>\n",
    "순서가 없고 key를 사용해서 값에 접근한다.<br>\n",
    "{} 중가로 사용"
   ]
  },
  {
   "cell_type": "code",
   "execution_count": 49,
   "id": "328aa27b-65aa-4539-a028-a6f000dbc8bc",
   "metadata": {},
   "outputs": [
    {
     "name": "stdout",
     "output_type": "stream",
     "text": [
      "{'name': '쿠키', 'level': 5}\n",
      "dict_keys(['name', 'level'])\n",
      "dict_values(['쿠키', 5])\n",
      "{'name': '쿠키', 'level': 5, 'id': 'cookie'}\n",
      "{'name': 'Jerry', 'level': 5, 'id': 'cookie'}\n",
      "{'name': 'Jerry', 'id': 'cookie'}\n"
     ]
    }
   ],
   "source": [
    "dictbox = {\"name\" : \"쿠키\", \"level\" : 5}\n",
    "print(dictbox)      \n",
    "\n",
    "# 키, 값\n",
    "print(dictbox.keys())\n",
    "print(dictbox.values())\n",
    "\n",
    "# 값 조회(접근)\n",
    "dictbox['name']\n",
    "dictbox['level']\n",
    "\n",
    "# 값 추가\n",
    "dictbox['id'] = \"cookie\"\n",
    "print(dictbox)\n",
    "\n",
    "# 값 변경\n",
    "dictbox['name'] = \"Jerry\"\n",
    "print(dictbox)\n",
    "\n",
    "# 값 삭제\n",
    "del dictbox['level']\n",
    "print(dictbox)\n",
    "\n"
   ]
  },
  {
   "cell_type": "code",
   "execution_count": 57,
   "id": "e1d47e8a-f855-4bed-81bb-bd15ac9cafe0",
   "metadata": {},
   "outputs": [
    {
     "name": "stdout",
     "output_type": "stream",
     "text": [
      "{'요리': ['분식', '한식', '중식'], '점포수': [4, 5, 2]}\n",
      "한식\n",
      "2\n"
     ]
    }
   ],
   "source": [
    "# 딕셔너리(값이 여러개 - 리스트와 연동)\n",
    "cook = [\"분식\", \"한식\", \"중식\"]\n",
    "number = [4, 5, 2]\n",
    "store = {\"요리\" : cook, \"점포수\" : number}\n",
    "print(store)\n",
    "\n",
    "# 한식에 접근(조회)\n",
    "print(store[\"요리\"][1])\n",
    "\n",
    "# 중식의 점포수\n",
    "print(store[\"점포수\"][2])"
   ]
  },
  {
   "cell_type": "code",
   "execution_count": 69,
   "id": "59419ed1-1cf8-4188-9f96-70ab796a89b9",
   "metadata": {},
   "outputs": [
    {
     "name": "stdout",
     "output_type": "stream",
     "text": [
      "[2, 4, 6]\n",
      "[2, 4, 6]\n",
      "[6, 8, 10]\n",
      "[2, 4, 6, 8, 10]\n",
      "[2, 4, 6, 8]\n",
      "[2, 6, 10]\n"
     ]
    }
   ],
   "source": [
    "# 인덱싱과 슬라이싱\n",
    "number = [2, 4, 6, 8, 10]\n",
    "print(number[0:3])    # 0번, 1번, 2번    3에서 -1번지지\n",
    "print(number[:3])     # 0은 생략가능\n",
    "print(number[2:])     # 2번부터 끝까지 \n",
    "print(number[:])      # 전체\n",
    "\n",
    "print(number[:-1])    # 전체에서 마지막 바로 앞까지\n",
    "print(number[::2])    # step\n"
   ]
  },
  {
   "cell_type": "code",
   "execution_count": 87,
   "id": "90de1fd2-d23d-46ab-bc0e-1c4dcdc1c152",
   "metadata": {},
   "outputs": [
    {
     "name": "stdout",
     "output_type": "stream",
     "text": [
      "<class 'tuple'>\n",
      "(1, 2, 3)\n",
      "1\n",
      "3\n",
      "<class 'int'>\n",
      "(3,)\n",
      "<class 'tuple'>\n"
     ]
    }
   ],
   "source": [
    "# 튜플 - 여러개의 자료를 저장하는 자료형, 요수를 수정하거나 삭제가 안됨, 인덱싱은 가능\n",
    "a = (1, 2, 3)\n",
    "print(type(a))\n",
    "print(a)\n",
    "\n",
    "print(a[0])   # a의 0번째 출력\n",
    "\n",
    "# 수정은 안됨\n",
    "# a[0] = 4     # 에러\n",
    "\n",
    "b = (3)\n",
    "print(b)\n",
    "print(type(b))   # 요소가 하나일 경우 타입이 int\n",
    "\n",
    "b = (3,)     # 요소가 하나일 경우 끝에 , 를 넣어주어야 튜플이 됨\n",
    "print(b)\n",
    "\n",
    "\n",
    "print(type(b))"
   ]
  },
  {
   "cell_type": "code",
   "execution_count": 121,
   "id": "09869500-0125-4d01-9805-4d2708cb6b85",
   "metadata": {},
   "outputs": [
    {
     "name": "stdout",
     "output_type": "stream",
     "text": [
      "8\n",
      "감사\n",
      "희망\n",
      "['감사', '행복', '사랑']\n",
      "성장\n",
      "['행복', '사랑']\n",
      "['감사', '행복', '사랑', '성공', '긍정', '웃음', '성장', '희망']\n",
      "name\n",
      "age\n",
      "phone\n"
     ]
    }
   ],
   "source": [
    "# 연습문제(p65)\n",
    "listbox = [\"감사\", \"행복\", \"사랑\", \"성공\", \"긍정\", \"변화\", \"성장\", \"희망\"]\n",
    "print(len(listbox))\n",
    "print(listbox[0])\n",
    "print(listbox[-1])\n",
    "print(listbox[0:3])\n",
    "print(listbox[-2])\n",
    "print(listbox[1:3])\n",
    "listbox[5] = \"웃음\"\n",
    "print(listbox[:])\n",
    "\n",
    "cols = ['name', 'age', 'phone']\n",
    "for i in cols :\n",
    "    print(i)"
   ]
  },
  {
   "cell_type": "code",
   "execution_count": 133,
   "id": "36d57856-2d32-41aa-b28d-3d719b9e3501",
   "metadata": {},
   "outputs": [
    {
     "name": "stdout",
     "output_type": "stream",
     "text": [
      "칼럼 :  age\n",
      "칼럼:age\n",
      "칼럼: age\n"
     ]
    }
   ],
   "source": [
    "colum = 'age'\n",
    "print(\"칼럼 : \", colum)\n",
    "\n",
    "#  + 연결연산자\n",
    "print(\"칼럼:\"+colum)\n",
    "\n",
    "#  f포멧 방식\n",
    "print(f\"칼럼: {colum}\")"
   ]
  },
  {
   "cell_type": "code",
   "execution_count": 149,
   "id": "d77c19a7-2a41-49a8-b3ae-bbf40791f834",
   "metadata": {},
   "outputs": [
    {
     "name": "stdout",
     "output_type": "stream",
     "text": [
      "개수: 4\n",
      "22\n",
      "최대값: 10\n",
      "최소값: 2\n",
      "5.5\n"
     ]
    }
   ],
   "source": [
    "# 내장함수\n",
    "# len(), sum(), max(), min(), int(), str()\n",
    "\n",
    "number = [4, 2, 10, 6]\n",
    "print(f'개수: {len(number)}')\n",
    "print(sum(number))\n",
    "print(f'최대값: {max(number)}')\n",
    "print(f'최소값: {min(number)}')\n",
    "\n",
    "# 평균\n",
    "ave = sum(number) / len(number)\n",
    "print(ave)\n"
   ]
  },
  {
   "cell_type": "code",
   "execution_count": 165,
   "id": "51e195fe-473d-41d6-9484-318039859854",
   "metadata": {},
   "outputs": [
    {
     "name": "stdout",
     "output_type": "stream",
     "text": [
      "안녕\n",
      "안녕\n",
      "None\n",
      "안녕~한강\n",
      "None\n",
      "16\n",
      "9\n"
     ]
    }
   ],
   "source": [
    "# 사용자 정의 함수  - def문\n",
    "def hello() :\n",
    "    print(\"안녕\")\n",
    "hello()    \n",
    "print(hello())    \n",
    "\n",
    "# 매개변수가 있는 함수\n",
    "def hello2(name) :\n",
    "    print(\"안녕~\" + name)\n",
    "\n",
    "# 함수호출\n",
    "print(hello2(\"한강\"))    \n",
    "\n",
    "# return이 있는 함수 (반환값이 있는 함수)\n",
    "def square(x) :\n",
    "    return x * x\n",
    "\n",
    "result = square(4)\n",
    "print(result)\n",
    "\n",
    "def plus(x, y) :\n",
    "    return x + y\n",
    "\n",
    "result2 = plus(4, 5)\n",
    "print(result2)\n",
    "\n"
   ]
  },
  {
   "cell_type": "code",
   "execution_count": 177,
   "id": "786c4c96-9392-4008-88e5-a565b71dd420",
   "metadata": {},
   "outputs": [
    {
     "name": "stdout",
     "output_type": "stream",
     "text": [
      "15 78\n",
      "15\n",
      "78\n",
      "43.8\n"
     ]
    }
   ],
   "source": [
    "# 연습문제 2\n",
    "listbox = [15, 46, 78, 24, 56]\n",
    "\n",
    "def min_max(data):\n",
    "    mi = min(data)\n",
    "    ma = max(data)\n",
    "    return mi, ma\n",
    "a, b = min_max(listbox)\n",
    "print(a, b)\n",
    "\n",
    "print(min(listbox))\n",
    "print(max(listbox))\n",
    "\n",
    "\n",
    "def mean(a) :\n",
    "    t = sum(a)\n",
    "    l = len(a)\n",
    "    return t/l\n",
    "c = mean(listbox)    \n",
    "print(c)"
   ]
  },
  {
   "cell_type": "code",
   "execution_count": 203,
   "id": "bd958135-fd0b-4592-8e61-6df3115c13d8",
   "metadata": {},
   "outputs": [
    {
     "name": "stdout",
     "output_type": "stream",
     "text": [
      "2.55\n",
      "2.5\n",
      "3.0\n",
      "3\n",
      "빅데이터 분석기사 파이썬 스터디\n",
      "['2024', '11', '14']\n",
      "년도: 2024\n",
      "2024년 11월 14일\n",
      "['orange', 'apple', 'banana']\n"
     ]
    }
   ],
   "source": [
    "# 내장함수 - 반올림 round(숫자, 자리수)\n",
    "print(round(2.547, 2))\n",
    "print(round(2.547, 1))\n",
    "print(round(2.547, 0))\n",
    "print(int(round(2.547, 0)))\n",
    "\n",
    "# 문자열함수 replace(변경전문자, 변경후문자)\n",
    "text = \"빅데이터 분석기사 파이썬 공부\"\n",
    "text = text.replace(\"공부\", \"스터디\")\n",
    "print(text)\n",
    "\n",
    "# 문자열함수 - split(구분기호문자)  - ':', \", \", \"/\"\n",
    "date = \"2024-11-14\"\n",
    "date = date.split('-')\n",
    "print(date)      # 결과값은 list로 반환 \n",
    "print(f'년도: {date[0]}')\n",
    "print(f'{date[0]}년 {date[1]}월 {date[2]}일')\n",
    "\n",
    "fruits = \"orange apple banana\"\n",
    "fruits = fruits.split(\" \")  # 공백으로 나눌 경우 한칸 띄워줌 또는 공란(대체로 요걸로 사용)\n",
    "print(fruits)"
   ]
  },
  {
   "cell_type": "markdown",
   "id": "72a6c5bf-0b03-4a3b-94dd-e410637d9142",
   "metadata": {},
   "source": [
    "### 모듈  - 파일을 사용하면 모듈이 됨, 함수/클래스가 포함됨\n",
    "  impot 키워드 사용"
   ]
  },
  {
   "cell_type": "code",
   "execution_count": 217,
   "id": "4789d854-1155-4c65-a8eb-119b596c55c6",
   "metadata": {},
   "outputs": [
    {
     "name": "stdout",
     "output_type": "stream",
     "text": [
      "2024-11-13\n",
      "2024\n",
      "11\n",
      "13\n",
      "2024-11-13 15:19:33.010661\n",
      "15\n",
      "19\n",
      "33\n"
     ]
    }
   ],
   "source": [
    "# 날짜와 시간 - datetime, 수학 - math,  게임 - random\n",
    "\n",
    "# 날짜 - date\n",
    "\n",
    "import datetime\n",
    "\n",
    "# 날짜\n",
    "today = datetime.date.today()\n",
    "print(today)\n",
    "print(today.year)\n",
    "print(today.month)\n",
    "print(today.day)\n",
    "\n",
    "# 날짜와 시간\n",
    "now = datetime.datetime.today()\n",
    "print(now)\n",
    "print(now.hour)\n",
    "print(now.minute)\n",
    "print(now.second)\n",
    "\n",
    "\n"
   ]
  },
  {
   "cell_type": "code",
   "execution_count": 223,
   "id": "1afb35ad-1018-47a4-9acd-c60e8c3827b8",
   "metadata": {},
   "outputs": [
    {
     "name": "stdout",
     "output_type": "stream",
     "text": [
      "2024-10-01\n",
      "<class 'datetime.date'>\n",
      "43 days, 0:00:00\n"
     ]
    }
   ],
   "source": [
    "# 날짜의 기간 확인\n",
    "import datetime\n",
    "theday = datetime.date(2024, 10, 1)\n",
    "print(theday)\n",
    "print(type(theday))\n",
    "\n",
    "today = datetime.date.today()\n",
    "passday = today - theday\n",
    "print(passday)"
   ]
  },
  {
   "cell_type": "code",
   "execution_count": 243,
   "id": "5e84342e-f23d-452d-83c9-dd4e9bf774a2",
   "metadata": {},
   "outputs": [
    {
     "name": "stdout",
     "output_type": "stream",
     "text": [
      "3.141592653589793\n",
      "4\n",
      "5\n",
      "78.53981633974483\n"
     ]
    }
   ],
   "source": [
    "import math\n",
    "\n",
    "# 버림, 올림\n",
    "\n",
    "print(math.pi)\n",
    "print(math.floor(4.9))   # 버림\n",
    "print(math.ceil(4.1))     # 올림\n",
    "\n",
    "radius = 5\n",
    "area = math.pi * radius * radius\n",
    "print(area)"
   ]
  },
  {
   "cell_type": "markdown",
   "id": "f79e9377-29fe-4320-a71f-9305983eb534",
   "metadata": {},
   "source": [
    "### 클래스\n",
    "사물을 추상화한 객체자료형(기본자료형 - int, str, bool)<br>\n",
    "객체에 대한 속성과 기능을 코드로 구현한 것<br>\n",
    "class 키워드를 사용"
   ]
  },
  {
   "cell_type": "code",
   "execution_count": 252,
   "id": "78ac2292-a376-41de-8c33-4af44385a881",
   "metadata": {},
   "outputs": [
    {
     "name": "stdout",
     "output_type": "stream",
     "text": [
      "생성자\n",
      "이름: 한강\n",
      "학년: 3\n"
     ]
    }
   ],
   "source": [
    "# 학생 클래스 - 학생의 속성과 메서드(함수)로 구성, 생성자 함수\n",
    "class Student:\n",
    "    def __init__(self):\n",
    "        self.name = \"한강\"\n",
    "        self.grade = 3\n",
    "        print(\"생성자\")\n",
    "# 매개변수(인자)가 없는 클스스\n",
    "s = Student()        \n",
    "print(\"이름:\", s.name)\n",
    "print(\"학년:\", s.grade)\n"
   ]
  },
  {
   "cell_type": "code",
   "execution_count": 254,
   "id": "d5e39125-29fd-4729-85a8-e063760fc497",
   "metadata": {},
   "outputs": [
    {
     "name": "stdout",
     "output_type": "stream",
     "text": [
      "이름: 한강, 학년: 3\n",
      "이름: 남산, 학년: 1\n"
     ]
    }
   ],
   "source": [
    "class Student:\n",
    "    def __init__(self, name, grade):\n",
    "        self.name = name\n",
    "        self.grade = grade\n",
    "    def student_info(self):\n",
    "        return f'이름: {self.name}, 학년: {self.grade}'\n",
    "\n",
    "s1 = Student(\"한강\", 3)\n",
    "print(s1.student_info())\n",
    "s2 = Student(\"남산\", 1)\n",
    "print(s2.student_info())"
   ]
  }
 ],
 "metadata": {
  "kernelspec": {
   "display_name": "Python 3 (ipykernel)",
   "language": "python",
   "name": "python3"
  },
  "language_info": {
   "codemirror_mode": {
    "name": "ipython",
    "version": 3
   },
   "file_extension": ".py",
   "mimetype": "text/x-python",
   "name": "python",
   "nbconvert_exporter": "python",
   "pygments_lexer": "ipython3",
   "version": "3.12.7"
  }
 },
 "nbformat": 4,
 "nbformat_minor": 5
}
