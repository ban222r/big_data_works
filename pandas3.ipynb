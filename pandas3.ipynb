{
 "cells": [
  {
   "cell_type": "code",
   "execution_count": 57,
   "id": "368bc911-4dad-41ff-ae96-15d6dff9c0f7",
   "metadata": {},
   "outputs": [
    {
     "data": {
      "text/html": [
       "<div>\n",
       "<style scoped>\n",
       "    .dataframe tbody tr th:only-of-type {\n",
       "        vertical-align: middle;\n",
       "    }\n",
       "\n",
       "    .dataframe tbody tr th {\n",
       "        vertical-align: top;\n",
       "    }\n",
       "\n",
       "    .dataframe thead th {\n",
       "        text-align: right;\n",
       "    }\n",
       "</style>\n",
       "<table border=\"1\" class=\"dataframe\">\n",
       "  <thead>\n",
       "    <tr style=\"text-align: right;\">\n",
       "      <th></th>\n",
       "      <th>A</th>\n",
       "      <th>B</th>\n",
       "      <th>C</th>\n",
       "    </tr>\n",
       "  </thead>\n",
       "  <tbody>\n",
       "    <tr>\n",
       "      <th>0</th>\n",
       "      <td>데이터 시각화</td>\n",
       "      <td>10</td>\n",
       "      <td>ab cd</td>\n",
       "    </tr>\n",
       "    <tr>\n",
       "      <th>1</th>\n",
       "      <td>기본 학습서</td>\n",
       "      <td>100</td>\n",
       "      <td>AB CD</td>\n",
       "    </tr>\n",
       "    <tr>\n",
       "      <th>2</th>\n",
       "      <td>퇴근 후 열공</td>\n",
       "      <td>30</td>\n",
       "      <td>ab cd</td>\n",
       "    </tr>\n",
       "  </tbody>\n",
       "</table>\n",
       "</div>"
      ],
      "text/plain": [
       "         A    B      C\n",
       "0  데이터 시각화   10  ab cd\n",
       "1   기본 학습서  100  AB CD\n",
       "2  퇴근 후 열공   30  ab cd"
      ]
     },
     "execution_count": 57,
     "metadata": {},
     "output_type": "execute_result"
    }
   ],
   "source": [
    "# 문자의 경우 str 접근자를 사용하여 replace(), split()  - 숫자는 상관없음\n",
    "import pandas as pd\n",
    "a = {'A' : ['데이터 분석', '기본 학습서', '퇴근 후 열공'],\n",
    "     'B' : [10, 20, 30],\n",
    "     'C' : ['ab cd', 'AB CD', 'ab cd']}\n",
    "df = pd.DataFrame(a)\n",
    "df\n",
    "\n",
    "df['B'] = df['B'].replace(20, 100)  # 숫자는 그냥 쓰면되고,\n",
    "df\n",
    "\n",
    "df['A'] = df['A'].str.replace(\"분석\", \"시각화\")   # 문자는 str을 사용\n",
    "df"
   ]
  },
  {
   "cell_type": "code",
   "execution_count": 61,
   "id": "a3b86807-c2c9-49b3-848a-c2eb0b64d3a5",
   "metadata": {},
   "outputs": [
    {
     "data": {
      "text/plain": [
       "['데이터', '시각화']"
      ]
     },
     "execution_count": 61,
     "metadata": {},
     "output_type": "execute_result"
    }
   ],
   "source": [
    "df['A'].str.split()[0]"
   ]
  },
  {
   "cell_type": "code",
   "execution_count": 71,
   "id": "03607d5c-3096-4de0-84b1-2baa7fc08a7f",
   "metadata": {},
   "outputs": [
    {
     "data": {
      "text/html": [
       "<div>\n",
       "<style scoped>\n",
       "    .dataframe tbody tr th:only-of-type {\n",
       "        vertical-align: middle;\n",
       "    }\n",
       "\n",
       "    .dataframe tbody tr th {\n",
       "        vertical-align: top;\n",
       "    }\n",
       "\n",
       "    .dataframe thead th {\n",
       "        text-align: right;\n",
       "    }\n",
       "</style>\n",
       "<table border=\"1\" class=\"dataframe\">\n",
       "  <thead>\n",
       "    <tr style=\"text-align: right;\">\n",
       "      <th></th>\n",
       "      <th>A</th>\n",
       "      <th>B</th>\n",
       "      <th>C</th>\n",
       "      <th>학습서포함여부</th>\n",
       "      <th>문자의길이</th>\n",
       "    </tr>\n",
       "  </thead>\n",
       "  <tbody>\n",
       "    <tr>\n",
       "      <th>0</th>\n",
       "      <td>데이터 시각화</td>\n",
       "      <td>10</td>\n",
       "      <td>abcd</td>\n",
       "      <td>False</td>\n",
       "      <td>7</td>\n",
       "    </tr>\n",
       "    <tr>\n",
       "      <th>1</th>\n",
       "      <td>기본 학습서</td>\n",
       "      <td>100</td>\n",
       "      <td>abcd</td>\n",
       "      <td>True</td>\n",
       "      <td>6</td>\n",
       "    </tr>\n",
       "    <tr>\n",
       "      <th>2</th>\n",
       "      <td>퇴근 후 열공</td>\n",
       "      <td>30</td>\n",
       "      <td>abcd</td>\n",
       "      <td>False</td>\n",
       "      <td>7</td>\n",
       "    </tr>\n",
       "  </tbody>\n",
       "</table>\n",
       "</div>"
      ],
      "text/plain": [
       "         A    B     C  학습서포함여부  문자의길이\n",
       "0  데이터 시각화   10  abcd    False      7\n",
       "1   기본 학습서  100  abcd     True      6\n",
       "2  퇴근 후 열공   30  abcd    False      7"
      ]
     },
     "execution_count": 71,
     "metadata": {},
     "output_type": "execute_result"
    }
   ],
   "source": [
    "# 특정 문자열 검색 -  str.contains()\n",
    "df['학습서포함여부'] = df['A'].str.contains('학습서')\n",
    "df\n",
    "\n",
    "# 문자의 길이   str.len()\n",
    "df['문자의길이'] = df['A'].str.len()\n",
    "df\n",
    "\n",
    "# 소문자 변경  -  str.lower(),  대문자 변경  - str.upper() \n",
    "df['C'] = df['C'].str.lower()   # C컬럼을 소문자로 변경하고 공백을 없애라\n",
    "df\n",
    "df['C'] = df['C'].str.replace(\" \", \"\")   \n",
    "df"
   ]
  },
  {
   "cell_type": "code",
   "execution_count": 87,
   "id": "6fb4c7f6-f98a-4594-b9b4-6e67dc7295b5",
   "metadata": {},
   "outputs": [
    {
     "name": "stdout",
     "output_type": "stream",
     "text": [
      "최대값:  5900\n",
      "최대값위치:  5\n",
      "1사분위수:  4750.0\n",
      "      메뉴    가격   칼로리  할인가격  할인가격.3  할인가격.1  할인가격.2  할인가격.4  할인가격.5\n",
      "0  아메리카노  4500  10.0  3600    3600    3600    3600    3600    3600\n",
      "4  에스프레소  4000  20.0  3200    3200    3200    3200    3200    3200\n"
     ]
    }
   ],
   "source": [
    "# 판다스 내장함수\n",
    "df = pd.read_csv(\"./data/cafe2.csv\")\n",
    "df\n",
    "\n",
    "print('최대값: ', df['가격'].max())    # 표준편차 std(),  분산 var()\n",
    "print('최대값위치: ', df['가격'].idxmax())  # 최대값의 인덱스 idxmax()\n",
    " \n",
    "\n",
    "# 사분위수   quantile(.25)\n",
    "print('1사분위수: ', df['가격'].quantile(.25))   # 75%일 경우  .75\n",
    "\n",
    "# 1사분위수보다 작은 가격 데이터 출력\n",
    "a = df['가격'].quantile(.25) > df['가격'] \n",
    "print(df[a])"
   ]
  },
  {
   "cell_type": "code",
   "execution_count": 137,
   "id": "93536dae-fec2-4308-b096-146d493f84a2",
   "metadata": {},
   "outputs": [],
   "source": [
    "# 그룹핑   groupby()\n",
    "df = pd.read_csv(\"./data/cafe2.csv\")\n",
    "df\n",
    "\n",
    "df['원산지'] =['베트남', '과테말라', '베네수엘라', '베트남', '베트남', '과테말라', '과테말라']\n",
    "df\n",
    "df.loc[6, '칼로리'] = 210.0\n",
    "df\n",
    "# df.groupby(['원산지']).mean(numeric_only=True)   # 원산지로 그룹화하여 숫자만 평균낼것\n",
    "\n",
    "# # 원산지와 칼로리로 그룹화\n",
    "# df.groupby(['원산지', '칼로리']).mean(numeric_only=True)\n",
    "\n",
    "# 집계연산(여러개 연산)   agg()\n",
    "df.groupby(['원산지', '메뉴']).agg(['mean', 'sum'])\n",
    "df.drop('할인가격.3', axis=1, inplace=True)\n",
    "\n",
    "\n",
    "# cafe3으로 저장\n",
    "# df.to_csv(\"./data/cafe3.csv\", index=False)"
   ]
  }
 ],
 "metadata": {
  "kernelspec": {
   "display_name": "Python 3 (ipykernel)",
   "language": "python",
   "name": "python3"
  },
  "language_info": {
   "codemirror_mode": {
    "name": "ipython",
    "version": 3
   },
   "file_extension": ".py",
   "mimetype": "text/x-python",
   "name": "python",
   "nbconvert_exporter": "python",
   "pygments_lexer": "ipython3",
   "version": "3.12.7"
  }
 },
 "nbformat": 4,
 "nbformat_minor": 5
}
