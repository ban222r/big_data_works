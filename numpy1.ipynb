{
 "cells": [
  {
   "cell_type": "markdown",
   "id": "fdc67797-4ef1-4237-9955-9f7a96a63e64",
   "metadata": {},
   "source": [
    "### numpy\n",
    "다차원 배열(행렬)을 쉽게 처리하고 효율적으로 사용할 수 있도록 지원하는 파이썬 라이브러리<br>\n",
    "수치 해석, 통계 관련 기능을 구현할 때 기본이 되는 모듈<br>\n",
    "Numerical Python의 줄임말"
   ]
  },
  {
   "cell_type": "code",
   "execution_count": 28,
   "id": "1ce9448e-ab16-46c0-822e-9dc7c8b8cac5",
   "metadata": {},
   "outputs": [
    {
     "name": "stdout",
     "output_type": "stream",
     "text": [
      "[ 0  1  2  3  4  5  6  7  8  9 10 11 12 13 14]\n",
      "(15,)\n",
      "[[ 0  1  2  3  4]\n",
      " [ 5  6  7  8  9]\n",
      " [10 11 12 13 14]]\n",
      "(3, 5)\n",
      "[[ 5  6  7  8  9]\n",
      " [10 11 12 13 14]]\n",
      "[[  0   1   2   3   4]\n",
      " [-99   6 -99   8 -99]\n",
      " [-99  11 -99  13 -99]]\n"
     ]
    }
   ],
   "source": [
    "import numpy as np\n",
    "\n",
    "# 파이썬의 range()\n",
    "# list(range(15))\n",
    "\n",
    "# 넘파이에서는 arange()    - 1차원 벡터\n",
    "x = np.arange(15)\n",
    "print(x)\n",
    "print(x.shape)\n",
    "\n",
    "# 2차원 벡터\n",
    "x2 = x.reshape(3,5)\n",
    "print(x2)\n",
    "print(x2.shape)\n",
    "\n",
    "# 인덱싱 / 슬라이싱\n",
    "print(x2[1:, :])\n",
    "\n",
    "x2[1:, ::2] = -99\n",
    "print(x2)\n",
    "\n",
    "# print(x2, max())"
   ]
  },
  {
   "cell_type": "code",
   "execution_count": 38,
   "id": "555ab3b4-b890-4b3d-a39b-56c879382099",
   "metadata": {},
   "outputs": [
    {
     "name": "stdout",
     "output_type": "stream",
     "text": [
      "[3 1 2]\n",
      "<class 'numpy.ndarray'>\n",
      "(3,)\n",
      "[[1 2 3]\n",
      " [4 5 6]]\n",
      "(2, 3)\n"
     ]
    }
   ],
   "source": [
    "# 넘파이  - array()  :  리스트 생성\n",
    "x = np.array([3, 1, 2])\n",
    "print(x)\n",
    "print(type(x))\n",
    "print(x.shape)\n",
    "\n",
    "a=[[1, 2, 3], [4, 5, 6]]\n",
    "x2 = np.array(a)\n",
    "print(x2)\n",
    "print(x2.shape)"
   ]
  },
  {
   "cell_type": "code",
   "execution_count": 40,
   "id": "07f233bf-42cd-404a-a50f-2a87680d12f6",
   "metadata": {},
   "outputs": [
    {
     "name": "stdout",
     "output_type": "stream",
     "text": [
      "[3. 6. 9.]\n"
     ]
    }
   ],
   "source": [
    "# 넘파이 연산\n",
    "a = [1.0, 2.0, 3.0]\n",
    "x = np.array(a)\n",
    "b= [2.0, 4.0, 6.0]\n",
    "y = np.array(b)\n",
    "print(x+y)\n"
   ]
  },
  {
   "cell_type": "code",
   "execution_count": 46,
   "id": "d8e08848-f822-48ef-ba5b-74bc218a9727",
   "metadata": {},
   "outputs": [
    {
     "name": "stdout",
     "output_type": "stream",
     "text": [
      "nan\n",
      "[[0. 0. 0.]\n",
      " [0. 0. 0.]\n",
      " [0. 0. 0.]]\n",
      "[[1. 1. 1.]\n",
      " [1. 1. 1.]]\n"
     ]
    }
   ],
   "source": [
    "# zeros, ones 행렬 생성\n",
    "a = np.nan\n",
    "print(a)\n",
    "\n",
    "a2 = np.zeros((3, 3))\n",
    "print(a2)\n",
    "\n",
    "a3 = np.ones((2, 3))\n",
    "print(a3)"
   ]
  }
 ],
 "metadata": {
  "kernelspec": {
   "display_name": "Python 3 (ipykernel)",
   "language": "python",
   "name": "python3"
  },
  "language_info": {
   "codemirror_mode": {
    "name": "ipython",
    "version": 3
   },
   "file_extension": ".py",
   "mimetype": "text/x-python",
   "name": "python",
   "nbconvert_exporter": "python",
   "pygments_lexer": "ipython3",
   "version": "3.12.7"
  }
 },
 "nbformat": 4,
 "nbformat_minor": 5
}
