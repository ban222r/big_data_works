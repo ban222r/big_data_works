{
 "cells": [
  {
   "cell_type": "code",
   "execution_count": null,
   "id": "a61ad122-d273-4a95-8d2d-474dfd9d4e03",
   "metadata": {},
   "outputs": [],
   "source": [
    "# 작업형 유형1\n",
    "#01"
   ]
  },
  {
   "cell_type": "code",
   "execution_count": 40,
   "id": "4d9872d4-9b9d-48a2-a025-d7fed5f3ae0c",
   "metadata": {},
   "outputs": [
    {
     "name": "stdout",
     "output_type": "stream",
     "text": [
      "5997\n"
     ]
    }
   ],
   "source": [
    "# import pandas as pd\n",
    "# df = pd.read_csv(\"./data/type1_data1.csv\")\n",
    "# df\n",
    "# # df.info()\n",
    "# df.head()\n",
    "\n",
    "# df['f5'].value_counts()\n",
    "\n",
    "# f5 컬럼의 0인값이 아닌 데이터행\n",
    "# cond1 = df['f5'] != 0\n",
    "# df[cond1]\n",
    "\n",
    "# views' 칼럼의 결측치 최소값으로 채우기\n",
    "# min_val = df['views'].min()\n",
    "# print(min_val)\n",
    "# df['views'] = df['views'].fillna(min_val)\n",
    "# df\n",
    "\n",
    "# views' 칼럼의 중앙값\n",
    "# print(int(df['views'].median()))"
   ]
  },
  {
   "cell_type": "code",
   "execution_count": 74,
   "id": "a6944acd-1bcd-480a-b6ee-c78eda08bc84",
   "metadata": {},
   "outputs": [
    {
     "ename": "FileNotFoundError",
     "evalue": "[Errno 2] No such file or directory: 'type1_data1.csv'",
     "output_type": "error",
     "traceback": [
      "\u001b[1;31m---------------------------------------------------------------------------\u001b[0m",
      "\u001b[1;31mFileNotFoundError\u001b[0m                         Traceback (most recent call last)",
      "Cell \u001b[1;32mIn[74], line 15\u001b[0m\n\u001b[0;32m      1\u001b[0m \u001b[38;5;66;03m# import pandas as pd\u001b[39;00m\n\u001b[0;32m      2\u001b[0m \u001b[38;5;66;03m# df = pd.read_csv(\"./data/type1_data1.csv\")\u001b[39;00m\n\u001b[0;32m      3\u001b[0m \u001b[38;5;66;03m# print(df)\u001b[39;00m\n\u001b[1;32m   (...)\u001b[0m\n\u001b[0;32m     11\u001b[0m \n\u001b[0;32m     12\u001b[0m \u001b[38;5;66;03m# 연습문제3 - p150\u001b[39;00m\n\u001b[0;32m     14\u001b[0m \u001b[38;5;28;01mimport\u001b[39;00m \u001b[38;5;21;01mpandas\u001b[39;00m \u001b[38;5;28;01mas\u001b[39;00m \u001b[38;5;21;01mpd\u001b[39;00m\n\u001b[1;32m---> 15\u001b[0m df \u001b[38;5;241m=\u001b[39m pd\u001b[38;5;241m.\u001b[39mread_csv(\u001b[38;5;124m\"\u001b[39m\u001b[38;5;124mtype1_data1.csv\u001b[39m\u001b[38;5;124m\"\u001b[39m)\n\u001b[0;32m     16\u001b[0m df\n",
      "File \u001b[1;32m~\\anaconda3\\Lib\\site-packages\\pandas\\io\\parsers\\readers.py:1026\u001b[0m, in \u001b[0;36mread_csv\u001b[1;34m(filepath_or_buffer, sep, delimiter, header, names, index_col, usecols, dtype, engine, converters, true_values, false_values, skipinitialspace, skiprows, skipfooter, nrows, na_values, keep_default_na, na_filter, verbose, skip_blank_lines, parse_dates, infer_datetime_format, keep_date_col, date_parser, date_format, dayfirst, cache_dates, iterator, chunksize, compression, thousands, decimal, lineterminator, quotechar, quoting, doublequote, escapechar, comment, encoding, encoding_errors, dialect, on_bad_lines, delim_whitespace, low_memory, memory_map, float_precision, storage_options, dtype_backend)\u001b[0m\n\u001b[0;32m   1013\u001b[0m kwds_defaults \u001b[38;5;241m=\u001b[39m _refine_defaults_read(\n\u001b[0;32m   1014\u001b[0m     dialect,\n\u001b[0;32m   1015\u001b[0m     delimiter,\n\u001b[1;32m   (...)\u001b[0m\n\u001b[0;32m   1022\u001b[0m     dtype_backend\u001b[38;5;241m=\u001b[39mdtype_backend,\n\u001b[0;32m   1023\u001b[0m )\n\u001b[0;32m   1024\u001b[0m kwds\u001b[38;5;241m.\u001b[39mupdate(kwds_defaults)\n\u001b[1;32m-> 1026\u001b[0m \u001b[38;5;28;01mreturn\u001b[39;00m _read(filepath_or_buffer, kwds)\n",
      "File \u001b[1;32m~\\anaconda3\\Lib\\site-packages\\pandas\\io\\parsers\\readers.py:620\u001b[0m, in \u001b[0;36m_read\u001b[1;34m(filepath_or_buffer, kwds)\u001b[0m\n\u001b[0;32m    617\u001b[0m _validate_names(kwds\u001b[38;5;241m.\u001b[39mget(\u001b[38;5;124m\"\u001b[39m\u001b[38;5;124mnames\u001b[39m\u001b[38;5;124m\"\u001b[39m, \u001b[38;5;28;01mNone\u001b[39;00m))\n\u001b[0;32m    619\u001b[0m \u001b[38;5;66;03m# Create the parser.\u001b[39;00m\n\u001b[1;32m--> 620\u001b[0m parser \u001b[38;5;241m=\u001b[39m TextFileReader(filepath_or_buffer, \u001b[38;5;241m*\u001b[39m\u001b[38;5;241m*\u001b[39mkwds)\n\u001b[0;32m    622\u001b[0m \u001b[38;5;28;01mif\u001b[39;00m chunksize \u001b[38;5;129;01mor\u001b[39;00m iterator:\n\u001b[0;32m    623\u001b[0m     \u001b[38;5;28;01mreturn\u001b[39;00m parser\n",
      "File \u001b[1;32m~\\anaconda3\\Lib\\site-packages\\pandas\\io\\parsers\\readers.py:1620\u001b[0m, in \u001b[0;36mTextFileReader.__init__\u001b[1;34m(self, f, engine, **kwds)\u001b[0m\n\u001b[0;32m   1617\u001b[0m     \u001b[38;5;28mself\u001b[39m\u001b[38;5;241m.\u001b[39moptions[\u001b[38;5;124m\"\u001b[39m\u001b[38;5;124mhas_index_names\u001b[39m\u001b[38;5;124m\"\u001b[39m] \u001b[38;5;241m=\u001b[39m kwds[\u001b[38;5;124m\"\u001b[39m\u001b[38;5;124mhas_index_names\u001b[39m\u001b[38;5;124m\"\u001b[39m]\n\u001b[0;32m   1619\u001b[0m \u001b[38;5;28mself\u001b[39m\u001b[38;5;241m.\u001b[39mhandles: IOHandles \u001b[38;5;241m|\u001b[39m \u001b[38;5;28;01mNone\u001b[39;00m \u001b[38;5;241m=\u001b[39m \u001b[38;5;28;01mNone\u001b[39;00m\n\u001b[1;32m-> 1620\u001b[0m \u001b[38;5;28mself\u001b[39m\u001b[38;5;241m.\u001b[39m_engine \u001b[38;5;241m=\u001b[39m \u001b[38;5;28mself\u001b[39m\u001b[38;5;241m.\u001b[39m_make_engine(f, \u001b[38;5;28mself\u001b[39m\u001b[38;5;241m.\u001b[39mengine)\n",
      "File \u001b[1;32m~\\anaconda3\\Lib\\site-packages\\pandas\\io\\parsers\\readers.py:1880\u001b[0m, in \u001b[0;36mTextFileReader._make_engine\u001b[1;34m(self, f, engine)\u001b[0m\n\u001b[0;32m   1878\u001b[0m     \u001b[38;5;28;01mif\u001b[39;00m \u001b[38;5;124m\"\u001b[39m\u001b[38;5;124mb\u001b[39m\u001b[38;5;124m\"\u001b[39m \u001b[38;5;129;01mnot\u001b[39;00m \u001b[38;5;129;01min\u001b[39;00m mode:\n\u001b[0;32m   1879\u001b[0m         mode \u001b[38;5;241m+\u001b[39m\u001b[38;5;241m=\u001b[39m \u001b[38;5;124m\"\u001b[39m\u001b[38;5;124mb\u001b[39m\u001b[38;5;124m\"\u001b[39m\n\u001b[1;32m-> 1880\u001b[0m \u001b[38;5;28mself\u001b[39m\u001b[38;5;241m.\u001b[39mhandles \u001b[38;5;241m=\u001b[39m get_handle(\n\u001b[0;32m   1881\u001b[0m     f,\n\u001b[0;32m   1882\u001b[0m     mode,\n\u001b[0;32m   1883\u001b[0m     encoding\u001b[38;5;241m=\u001b[39m\u001b[38;5;28mself\u001b[39m\u001b[38;5;241m.\u001b[39moptions\u001b[38;5;241m.\u001b[39mget(\u001b[38;5;124m\"\u001b[39m\u001b[38;5;124mencoding\u001b[39m\u001b[38;5;124m\"\u001b[39m, \u001b[38;5;28;01mNone\u001b[39;00m),\n\u001b[0;32m   1884\u001b[0m     compression\u001b[38;5;241m=\u001b[39m\u001b[38;5;28mself\u001b[39m\u001b[38;5;241m.\u001b[39moptions\u001b[38;5;241m.\u001b[39mget(\u001b[38;5;124m\"\u001b[39m\u001b[38;5;124mcompression\u001b[39m\u001b[38;5;124m\"\u001b[39m, \u001b[38;5;28;01mNone\u001b[39;00m),\n\u001b[0;32m   1885\u001b[0m     memory_map\u001b[38;5;241m=\u001b[39m\u001b[38;5;28mself\u001b[39m\u001b[38;5;241m.\u001b[39moptions\u001b[38;5;241m.\u001b[39mget(\u001b[38;5;124m\"\u001b[39m\u001b[38;5;124mmemory_map\u001b[39m\u001b[38;5;124m\"\u001b[39m, \u001b[38;5;28;01mFalse\u001b[39;00m),\n\u001b[0;32m   1886\u001b[0m     is_text\u001b[38;5;241m=\u001b[39mis_text,\n\u001b[0;32m   1887\u001b[0m     errors\u001b[38;5;241m=\u001b[39m\u001b[38;5;28mself\u001b[39m\u001b[38;5;241m.\u001b[39moptions\u001b[38;5;241m.\u001b[39mget(\u001b[38;5;124m\"\u001b[39m\u001b[38;5;124mencoding_errors\u001b[39m\u001b[38;5;124m\"\u001b[39m, \u001b[38;5;124m\"\u001b[39m\u001b[38;5;124mstrict\u001b[39m\u001b[38;5;124m\"\u001b[39m),\n\u001b[0;32m   1888\u001b[0m     storage_options\u001b[38;5;241m=\u001b[39m\u001b[38;5;28mself\u001b[39m\u001b[38;5;241m.\u001b[39moptions\u001b[38;5;241m.\u001b[39mget(\u001b[38;5;124m\"\u001b[39m\u001b[38;5;124mstorage_options\u001b[39m\u001b[38;5;124m\"\u001b[39m, \u001b[38;5;28;01mNone\u001b[39;00m),\n\u001b[0;32m   1889\u001b[0m )\n\u001b[0;32m   1890\u001b[0m \u001b[38;5;28;01massert\u001b[39;00m \u001b[38;5;28mself\u001b[39m\u001b[38;5;241m.\u001b[39mhandles \u001b[38;5;129;01mis\u001b[39;00m \u001b[38;5;129;01mnot\u001b[39;00m \u001b[38;5;28;01mNone\u001b[39;00m\n\u001b[0;32m   1891\u001b[0m f \u001b[38;5;241m=\u001b[39m \u001b[38;5;28mself\u001b[39m\u001b[38;5;241m.\u001b[39mhandles\u001b[38;5;241m.\u001b[39mhandle\n",
      "File \u001b[1;32m~\\anaconda3\\Lib\\site-packages\\pandas\\io\\common.py:873\u001b[0m, in \u001b[0;36mget_handle\u001b[1;34m(path_or_buf, mode, encoding, compression, memory_map, is_text, errors, storage_options)\u001b[0m\n\u001b[0;32m    868\u001b[0m \u001b[38;5;28;01melif\u001b[39;00m \u001b[38;5;28misinstance\u001b[39m(handle, \u001b[38;5;28mstr\u001b[39m):\n\u001b[0;32m    869\u001b[0m     \u001b[38;5;66;03m# Check whether the filename is to be opened in binary mode.\u001b[39;00m\n\u001b[0;32m    870\u001b[0m     \u001b[38;5;66;03m# Binary mode does not support 'encoding' and 'newline'.\u001b[39;00m\n\u001b[0;32m    871\u001b[0m     \u001b[38;5;28;01mif\u001b[39;00m ioargs\u001b[38;5;241m.\u001b[39mencoding \u001b[38;5;129;01mand\u001b[39;00m \u001b[38;5;124m\"\u001b[39m\u001b[38;5;124mb\u001b[39m\u001b[38;5;124m\"\u001b[39m \u001b[38;5;129;01mnot\u001b[39;00m \u001b[38;5;129;01min\u001b[39;00m ioargs\u001b[38;5;241m.\u001b[39mmode:\n\u001b[0;32m    872\u001b[0m         \u001b[38;5;66;03m# Encoding\u001b[39;00m\n\u001b[1;32m--> 873\u001b[0m         handle \u001b[38;5;241m=\u001b[39m \u001b[38;5;28mopen\u001b[39m(\n\u001b[0;32m    874\u001b[0m             handle,\n\u001b[0;32m    875\u001b[0m             ioargs\u001b[38;5;241m.\u001b[39mmode,\n\u001b[0;32m    876\u001b[0m             encoding\u001b[38;5;241m=\u001b[39mioargs\u001b[38;5;241m.\u001b[39mencoding,\n\u001b[0;32m    877\u001b[0m             errors\u001b[38;5;241m=\u001b[39merrors,\n\u001b[0;32m    878\u001b[0m             newline\u001b[38;5;241m=\u001b[39m\u001b[38;5;124m\"\u001b[39m\u001b[38;5;124m\"\u001b[39m,\n\u001b[0;32m    879\u001b[0m         )\n\u001b[0;32m    880\u001b[0m     \u001b[38;5;28;01melse\u001b[39;00m:\n\u001b[0;32m    881\u001b[0m         \u001b[38;5;66;03m# Binary mode\u001b[39;00m\n\u001b[0;32m    882\u001b[0m         handle \u001b[38;5;241m=\u001b[39m \u001b[38;5;28mopen\u001b[39m(handle, ioargs\u001b[38;5;241m.\u001b[39mmode)\n",
      "\u001b[1;31mFileNotFoundError\u001b[0m: [Errno 2] No such file or directory: 'type1_data1.csv'"
     ]
    }
   ],
   "source": [
    "# import pandas as pd\n",
    "# df = pd.read_csv(\"./data/type1_data1.csv\")\n",
    "# print(df)\n",
    "\n",
    "# df = df['subscribed'].value_counts()\n",
    "# print(df)\n",
    "# print(df.index[0])\n",
    "\n",
    "# day = df.index[0].split('-')[2]\n",
    "# print(int(day))\n",
    "\n",
    "\n"
   ]
  },
  {
   "cell_type": "code",
   "execution_count": 104,
   "id": "a6c08452-7f84-4a04-9609-f9470cc2b8ac",
   "metadata": {},
   "outputs": [
    {
     "name": "stdout",
     "output_type": "stream",
     "text": [
      "        id   age city    f1  f2      f3    f4         f5  subscribed   views\n",
      "0     id01   2.0   서울   NaN   0    gold  ENFJ  91.297791  2024-07-16  6820.0\n",
      "1     id02   9.0   서울  70.0   1     NaN  ENFJ  60.339826  2024-05-12  2534.0\n",
      "2     id03  27.0   서울  61.0   1    gold  ISTJ  17.252986  2024-03-16  7312.0\n",
      "3     id04  75.0   서울   NaN   2     NaN  INFP  52.667078  2024-07-21   493.0\n",
      "4     id05  24.0   서울  85.0   2     NaN  ISFJ  29.269869  2024-03-07  1338.0\n",
      "..     ...   ...  ...   ...  ..     ...   ...        ...         ...     ...\n",
      "115  id114  22.0   대구  23.0   0    gold  INTP   0.000000  2025-02-17  9747.0\n",
      "116  id115  23.0   부산  65.0   0     vip  ENTP   0.000000  2025-02-17  5628.0\n",
      "117  id116  23.0   서울  12.0   1  silver  INFP   0.000000  2025-02-17  1267.0\n",
      "118  id117  23.0   대구  65.0   2    gold  INFP   0.000000  2025-02-17  6543.0\n",
      "119  id118  24.0   부산  94.0   1     vip  ESFJ   0.000000  2025-02-17  2356.0\n",
      "\n",
      "[120 rows x 10 columns]\n",
      "id             0\n",
      "age            0\n",
      "city           0\n",
      "f1            31\n",
      "f2             0\n",
      "f3            29\n",
      "f4             0\n",
      "f5             0\n",
      "subscribed     0\n",
      "views          4\n",
      "dtype: int64\n",
      "        id   age city     f1  f2      f3    f4         f5  subscribed    views\n",
      "2     id03  27.0   서울   61.0   1    gold  ISTJ  17.252986  2024-03-16   7312.0\n",
      "5     id06  22.0   서울   57.0   0     vip  INTP  20.129444  2024-09-12  21550.0\n",
      "7     id08  38.0   서울  101.0   1  silver  INFJ  83.685380  2024-03-06   3260.0\n",
      "9     id10  95.0   서울   74.0   1    gold  ISFP  98.429899  2024-04-03   9992.0\n",
      "10   id100  47.0   경기   53.0   0     vip  ESFP  33.308999  2024-02-21  15535.0\n",
      "..     ...   ...  ...    ...  ..     ...   ...        ...         ...      ...\n",
      "115  id114  22.0   대구   23.0   0    gold  INTP   0.000000  2025-02-17   9747.0\n",
      "116  id115  23.0   부산   65.0   0     vip  ENTP   0.000000  2025-02-17   5628.0\n",
      "117  id116  23.0   서울   12.0   1  silver  INFP   0.000000  2025-02-17   1267.0\n",
      "118  id117  23.0   대구   65.0   2    gold  INFP   0.000000  2025-02-17   6543.0\n",
      "119  id118  24.0   부산   94.0   1     vip  ESFJ   0.000000  2025-02-17   2356.0\n",
      "\n",
      "[70 rows x 10 columns]\n",
      "id            0\n",
      "age           0\n",
      "city          0\n",
      "f1            0\n",
      "f2            0\n",
      "f3            0\n",
      "f4            0\n",
      "f5            0\n",
      "subscribed    0\n",
      "views         0\n",
      "dtype: int64\n",
      "        id   age city     f1  f2      f3    f4         f5  subscribed  \\\n",
      "2     id03  27.0   서울   61.0   1    gold  ISTJ  17.252986  2024-03-16   \n",
      "5     id06  22.0   서울   57.0   0     vip  INTP  20.129444  2024-09-12   \n",
      "7     id08  38.0   서울  101.0   1  silver  INFJ  83.685380  2024-03-06   \n",
      "9     id10  95.0   서울   74.0   1    gold  ISFP  98.429899  2024-04-03   \n",
      "10   id100  47.0   경기   53.0   0     vip  ESFP  33.308999  2024-02-21   \n",
      "..     ...   ...  ...    ...  ..     ...   ...        ...         ...   \n",
      "115  id114  22.0   대구   23.0   0    gold  INTP   0.000000  2025-02-17   \n",
      "116  id115  23.0   부산   65.0   0     vip  ENTP   0.000000  2025-02-17   \n",
      "117  id116  23.0   서울   12.0   1  silver  INFP   0.000000  2025-02-17   \n",
      "118  id117  23.0   대구   65.0   2    gold  INFP   0.000000  2025-02-17   \n",
      "119  id118  24.0   부산   94.0   1     vip  ESFJ   0.000000  2025-02-17   \n",
      "\n",
      "       views         new  \n",
      "2     7312.0  119.868852  \n",
      "5    21550.0  378.070175  \n",
      "7     3260.0   32.277228  \n",
      "9     9992.0  135.027027  \n",
      "10   15535.0  293.113208  \n",
      "..       ...         ...  \n",
      "115   9747.0  423.782609  \n",
      "116   5628.0   86.584615  \n",
      "117   1267.0  105.583333  \n",
      "118   6543.0  100.661538  \n",
      "119   2356.0   25.063830  \n",
      "\n",
      "[70 rows x 11 columns]\n",
      "423.7826086956522\n"
     ]
    },
    {
     "ename": "TypeError",
     "evalue": "'module' object is not subscriptable",
     "output_type": "error",
     "traceback": [
      "\u001b[1;31m---------------------------------------------------------------------------\u001b[0m",
      "\u001b[1;31mTypeError\u001b[0m                                 Traceback (most recent call last)",
      "Cell \u001b[1;32mIn[104], line 22\u001b[0m\n\u001b[0;32m     20\u001b[0m max_val \u001b[38;5;241m=\u001b[39m df[\u001b[38;5;124m'\u001b[39m\u001b[38;5;124mnew\u001b[39m\u001b[38;5;124m'\u001b[39m]\u001b[38;5;241m.\u001b[39mmax()\n\u001b[0;32m     21\u001b[0m \u001b[38;5;28mprint\u001b[39m(max_val)\n\u001b[1;32m---> 22\u001b[0m max_age \u001b[38;5;241m=\u001b[39m \u001b[38;5;28mint\u001b[39m(pd[\u001b[38;5;124m'\u001b[39m\u001b[38;5;124mage\u001b[39m\u001b[38;5;124m'\u001b[39m]\u001b[38;5;241m.\u001b[39mindex[\u001b[38;5;241m115\u001b[39m])\n\u001b[0;32m     23\u001b[0m \u001b[38;5;28mprint\u001b[39m(max_age)\n",
      "\u001b[1;31mTypeError\u001b[0m: 'module' object is not subscriptable"
     ]
    }
   ],
   "source": [
    "# 연습문제3 - p150\n",
    "\n",
    "import pandas as pd\n",
    "df = pd.read_csv(\"./data/type1_data1.csv\")\n",
    "print(df)\n",
    "# NaN 개수파악\n",
    "print(df.isnull().sum())\n",
    "\n",
    "df = df.dropna()\n",
    "print(df)\n",
    "print(df.isnull().sum())\n",
    "\n",
    "# 'views' 칼럼을 'f1'컬럼으로 나눈 값을 새로운 컬럼으로 추가하시오\n",
    "\n",
    "df[\"new\"] = df[\"views\"] / df[\"f1\"]\n",
    "print(df)\n",
    "\n",
    "# 새로운 칼럼 값 중 가장 큰 값을 가진 행의 age를 정수로 구하시오\n",
    "\n",
    "max_val = df['new'].max()\n",
    "print(max_val)\n",
    "max_age = int(pd['age'].index[115])\n",
    "print(max_age)"
   ]
  },
  {
   "cell_type": "code",
   "execution_count": 124,
   "id": "e5749714-0067-4397-a027-46c0268a71dd",
   "metadata": {},
   "outputs": [
    {
     "name": "stdout",
     "output_type": "stream",
     "text": [
      "        id   age city    f1  f2      f3    f4         f5  subscribed   views\n",
      "0     id01   2.0   서울   NaN   0    gold  ENFJ  91.297791  2024-07-16  6820.0\n",
      "1     id02   9.0   서울  70.0   1     NaN  ENFJ  60.339826  2024-05-12  2534.0\n",
      "2     id03  27.0   서울  61.0   1    gold  ISTJ  17.252986  2024-03-16  7312.0\n",
      "3     id04  75.0   서울   NaN   2     NaN  INFP  52.667078  2024-07-21   493.0\n",
      "4     id05  24.0   서울  85.0   2     NaN  ISFJ  29.269869  2024-03-07  1338.0\n",
      "..     ...   ...  ...   ...  ..     ...   ...        ...         ...     ...\n",
      "115  id114  22.0   대구  23.0   0    gold  INTP   0.000000  2025-02-17  9747.0\n",
      "116  id115  23.0   부산  65.0   0     vip  ENTP   0.000000  2025-02-17  5628.0\n",
      "117  id116  23.0   서울  12.0   1  silver  INFP   0.000000  2025-02-17  1267.0\n",
      "118  id117  23.0   대구  65.0   2    gold  INFP   0.000000  2025-02-17  6543.0\n",
      "119  id118  24.0   부산  94.0   1     vip  ESFJ   0.000000  2025-02-17  2356.0\n",
      "\n",
      "[120 rows x 10 columns]\n",
      "        id   age city    f1  f2   f3    f4         f5  subscribed    views\n",
      "5     id06  22.0   서울  57.0   0  vip  INTP  20.129444  2024-09-12  21550.0\n",
      "56    id56  59.0   대구   NaN   1  vip  ESTJ  73.586397  2024-04-05  19589.0\n",
      "83    id83  73.0   경기  50.0   1  vip  ENTP  80.138280  2024-09-26  19139.0\n",
      "32    id32  25.0   부산  64.0   0  vip  ISFJ  13.049921  2024-05-24  17421.0\n",
      "100  id100  47.0   경기  53.0   0  vip  ESFP  33.308999  2024-02-21  15535.0\n",
      "..     ...   ...  ...   ...  ..  ...   ...        ...         ...      ...\n",
      "93    id93  21.8   경기  57.0   0  NaN  ISFP  73.586397  2024-06-07     42.0\n",
      "20    id20  11.0   서울  51.0   1  NaN  INTJ  91.297791  2024-07-16      0.0\n",
      "48    id48  18.0   대구   NaN   0  NaN  ENFP  20.129444  2024-03-25      0.0\n",
      "39    id39  56.0   부산  50.0   0  NaN  INFJ  33.308999  2024-12-22      0.0\n",
      "82    id82  48.0   경기   NaN   0  NaN  ENTJ  37.113739  2024-10-17      0.0\n",
      "\n",
      "[120 rows x 10 columns]\n",
      "9877.0\n"
     ]
    }
   ],
   "source": [
    "# 연습문제 4\n",
    "import pandas as pd\n",
    "df = pd.read_csv(\"./data/type1_data1.csv\")\n",
    "print(df)\n",
    "df[\"views\"] = df['views'].fillna(0)\n",
    "df = df.sort_values('views', ascending=False)\n",
    "print(df)\n",
    "views_min = df.iloc[:10, -1].min()\n",
    "# df.iloc[:10, -1] = views_min\n",
    "print(views_min)"
   ]
  }
 ],
 "metadata": {
  "kernelspec": {
   "display_name": "Python 3 (ipykernel)",
   "language": "python",
   "name": "python3"
  },
  "language_info": {
   "codemirror_mode": {
    "name": "ipython",
    "version": 3
   },
   "file_extension": ".py",
   "mimetype": "text/x-python",
   "name": "python",
   "nbconvert_exporter": "python",
   "pygments_lexer": "ipython3",
   "version": "3.12.7"
  }
 },
 "nbformat": 4,
 "nbformat_minor": 5
}
