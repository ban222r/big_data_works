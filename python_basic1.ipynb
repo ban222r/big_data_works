{
 "cells": [
  {
   "cell_type": "code",
   "execution_count": 5,
   "id": "a4878f7f-2867-493e-9cc8-db7ffac95e4a",
   "metadata": {},
   "outputs": [
    {
     "name": "stdout",
     "output_type": "stream",
     "text": [
      "안녕\n",
      "2024\n",
      "2.54\n"
     ]
    }
   ],
   "source": [
    "# 파이썬 기초\n",
    "\n",
    "print(\"안녕\")\n",
    "print(2024)\n",
    "print(2.54)\n",
    "\n",
    "\n"
   ]
  },
  {
   "cell_type": "code",
   "execution_count": 25,
   "id": "70f0d5b4-e702-4547-88e2-97aad0f9a22b",
   "metadata": {},
   "outputs": [
    {
     "name": "stdout",
     "output_type": "stream",
     "text": [
      "5.333333333333333\n",
      "5\n",
      "1\n",
      "python\n",
      "py3\n",
      "<class 'int'>\n",
      "<class 'float'>\n",
      "4\n",
      "<class 'str'>\n",
      "<class 'bool'>\n"
     ]
    }
   ],
   "source": [
    "# 산술 연산\n",
    "print(16/3)\n",
    "print(16//3) # 몫\n",
    "print(16%3)  # 나머지\n",
    "\n",
    "# 문자 더하기\n",
    "print(\"py\"+\"thon\")\n",
    "\n",
    "# 문자 + 숫자\n",
    "print(\"py\" + str(3))\n",
    "\n",
    "# 자료형 확인  type()\n",
    "\n",
    "print(type(3))    # 정수  int\n",
    "print(type(3.1))  # 실수  float\n",
    "print(int(4.4))\n",
    "print(type(\"smile\"))\n",
    "print(type(5>10))  # bool "
   ]
  },
  {
   "cell_type": "markdown",
   "id": "2777e9e2-6bb4-4c32-8b5a-bb04dc104b88",
   "metadata": {},
   "source": [
    "### 변수(variable)"
   ]
  },
  {
   "cell_type": "code",
   "execution_count": 51,
   "id": "838e477e-ff28-4c37-9d7a-f8118a25d6a6",
   "metadata": {},
   "outputs": [
    {
     "name": "stdout",
     "output_type": "stream",
     "text": [
      "11\n",
      "한강\n",
      "4500\n",
      "5000\n",
      "9500\n",
      "11\n",
      "10 11\n"
     ]
    }
   ],
   "source": [
    "a = 10\n",
    "a = a+1\n",
    "print(a)\n",
    "\n",
    "name = \"한강\"\n",
    "print(name)\n",
    "\n",
    "americano = 4500\n",
    "print(americano)\n",
    "latte = 5000\n",
    "print(latte)\n",
    "total = americano+latte\n",
    "print(total)\n",
    "\n",
    "# 다중 변수 할당\n",
    "a, b = 10, 11\n",
    "print(b)\n",
    "print(a, b)"
   ]
  },
  {
   "cell_type": "code",
   "execution_count": 59,
   "id": "dcaf4c37-c9ba-4d00-80e2-bc58343a309f",
   "metadata": {},
   "outputs": [
    {
     "name": "stdout",
     "output_type": "stream",
     "text": [
      "2.15\n",
      "2\n"
     ]
    },
    {
     "name": "stdin",
     "output_type": "stream",
     "text": [
      "숫자입력 11\n"
     ]
    },
    {
     "name": "stdout",
     "output_type": "stream",
     "text": [
      "11\n"
     ]
    }
   ],
   "source": [
    "# 자료형 변환 (크기: bool < 정수 < 실수 < 문자)\n",
    "# 자동변환 - 암시(암묵)적 변환 (작은쪽에서 큰쪽)\n",
    "a = 2\n",
    "b = 0.15\n",
    "c = a + b\n",
    "print(c)\n",
    "\n",
    "# 명시적 형변환(casting) - 큰쪽 -> 작은쪽\n",
    "box = 2.17\n",
    "box2 = int(box)\n",
    "print(box2)\n",
    "\n",
    "# 입력  input\n",
    "num = input(\"숫자입력\")\n",
    "print(num)\n"
   ]
  },
  {
   "cell_type": "markdown",
   "id": "02fd23d8-2365-4811-9e9b-7e5cb76afdf4",
   "metadata": {},
   "source": [
    "### 조건문(if)"
   ]
  },
  {
   "cell_type": "code",
   "execution_count": 94,
   "id": "db49db07-1934-4056-b9b0-2604865e8d33",
   "metadata": {},
   "outputs": [
    {
     "name": "stdout",
     "output_type": "stream",
     "text": [
      "True\n",
      "False\n",
      "False\n",
      "pass\n",
      "fail\n",
      "B\n"
     ]
    },
    {
     "name": "stdin",
     "output_type": "stream",
     "text": [
      "점수입력 30\n"
     ]
    },
    {
     "name": "stdout",
     "output_type": "stream",
     "text": [
      "D\n"
     ]
    },
    {
     "data": {
      "text/plain": [
       "''"
      ]
     },
     "execution_count": 94,
     "metadata": {},
     "output_type": "execute_result"
    }
   ],
   "source": [
    "# 비교 연산자\n",
    "10 > 11\n",
    "10 < 11\n",
    "10==11   # 같다\n",
    "10 != 11  # 같지않다\n",
    "\n",
    "a, b = \"머신러닝\", \"머신러닝\"\n",
    "print(a == b)\n",
    "print(a != b)\n",
    "\n",
    "a, b, c = \"머신러닝\", \"머신러닝\" , \"딥러닝\"\n",
    "print(a==c)\n",
    "\n",
    "# 조건문\n",
    " # if - 조건이 True 일때\n",
    "\"\"\"\n",
    "score = 10\n",
    "if score >= 10 :\n",
    "    print(\"pass\")\n",
    " # if ~ else문\n",
    "if score >= 11 :\n",
    "    print(\"pass\")\n",
    "else:\n",
    "    print(\"fail\")\n",
    "\"\"\"    \n",
    "\n",
    "# if ~ elif ~ else\n",
    "\"\"\"\n",
    "점수 = 87\n",
    "if 점수 >= 90:\n",
    "    print(\"A\")\n",
    "elif 점수 >= 80:\n",
    "    print(\"B\")\n",
    "elif 점수 >= 70:\n",
    "    print(\"C\")\n",
    "else:\n",
    "    print(\"D\")\n",
    "\n",
    "# if ~ elif ~ else\n",
    "\"\"\"\n",
    "\"\"\"\n",
    "점수 = int(input(\"점수입력\"))\n",
    "if 점수 >= 90 and 점수 <=100:\n",
    "    print(\"A\")\n",
    "elif 점수 >= 80 :\n",
    "    print(\"B\")\n",
    "elif 점수 >= 70:\n",
    "    print(\"C\")\n",
    "else:\n",
    "    print(\"D\")    \n",
    "\"\"\"    "
   ]
  },
  {
   "cell_type": "markdown",
   "id": "6dabadfb-a609-44c0-8be7-f3ea9271be99",
   "metadata": {},
   "source": [
    "### 리스트(list)\n",
    "여러개의 데이터를 저장하는 공간<br>\n",
    "순서가 있어서 자료에 접근할수 있음"
   ]
  },
  {
   "cell_type": "code",
   "execution_count": 114,
   "id": "9ed267d4-0dd7-42ae-aa3e-edd810cbaf15",
   "metadata": {},
   "outputs": [
    {
     "name": "stdout",
     "output_type": "stream",
     "text": [
      "[4, 2, 10, 5, 8]\n",
      "4\n",
      "10\n",
      "8\n",
      "[4, 2, 10, 5, 8, 20]\n",
      "[4, 2, 1, 5, 8, 20]\n",
      "[4, 2, 1, 5, 8]\n"
     ]
    }
   ],
   "source": [
    "# 리스트\n",
    "listbox = [4, 2, 10, 5, 8]\n",
    "print(listbox)\n",
    "type(listbox)\n",
    "\n",
    "# 접근 인덱싱\n",
    "print(listbox[0])\n",
    "print(listbox[2])\n",
    "print(listbox[-1])  # 맨 마지막 ( 순차적으로 -2, -3 ~)\n",
    "\n",
    "# 요소(값) 추가    # 맨 뒤에서 삽입\n",
    "listbox.append(20)\n",
    "print(listbox)\n",
    "\n",
    "# 요소값 변경\n",
    "listbox[2] = 1\n",
    "print(listbox)\n",
    "\n",
    "# 요소값 삭제    # 맨 뒤에서 삭제\n",
    "listbox.pop()\n",
    "print(listbox)"
   ]
  },
  {
   "cell_type": "code",
   "execution_count": 124,
   "id": "7cd8579f-bb03-44c6-b03c-755c83f7e382",
   "metadata": {},
   "outputs": [
    {
     "name": "stdout",
     "output_type": "stream",
     "text": [
      "['감', '파인애플', '바나나']\n"
     ]
    }
   ],
   "source": [
    "# 리스트\n",
    "fruits = []   #빈배열\n",
    "fruits.append(\"감\")\n",
    "fruits.append(\"배\")\n",
    "fruits.append(\"바나나\")\n",
    "fruits[1] = \"파인애플\"  #배를 파인애플로 변경\n",
    "print(fruits)"
   ]
  }
 ],
 "metadata": {
  "kernelspec": {
   "display_name": "Python 3 (ipykernel)",
   "language": "python",
   "name": "python3"
  },
  "language_info": {
   "codemirror_mode": {
    "name": "ipython",
    "version": 3
   },
   "file_extension": ".py",
   "mimetype": "text/x-python",
   "name": "python",
   "nbconvert_exporter": "python",
   "pygments_lexer": "ipython3",
   "version": "3.12.7"
  }
 },
 "nbformat": 4,
 "nbformat_minor": 5
}
